{
 "cells": [
  {
   "cell_type": "markdown",
   "metadata": {},
   "source": [
    "# Pipeline \n",
    "- Insertar Imagen\n",
    "- Procesar Imagen\n",
    "- Separar en líneas\n",
    "- Enviar a los distintos OCRs\n",
    "- Correcciones \n",
    "- Decisión Final"
   ]
  },
  {
   "cell_type": "markdown",
   "metadata": {},
   "source": [
    "## Insertar Imágenes"
   ]
  },
  {
   "cell_type": "code",
   "execution_count": 1,
   "metadata": {},
   "outputs": [],
   "source": [
    "import os\n",
    "\n",
    "\n",
    "input_folder = \"data/input\"\n",
    "os.makedirs(input_folder, exist_ok=True)\n",
    "output_folder = \"data/output_preprocessing\"\n",
    "os.makedirs(output_folder, exist_ok=True)"
   ]
  },
  {
   "cell_type": "markdown",
   "metadata": {},
   "source": [
    "# Procesar Imágenes"
   ]
  },
  {
   "cell_type": "code",
   "execution_count": 2,
   "metadata": {},
   "outputs": [],
   "source": [
    "# from Preprocessing.pipeline2 import cleanup_image\n",
    "\n",
    "# cleanup_image(input_folder, output_folder)"
   ]
  },
  {
   "cell_type": "markdown",
   "metadata": {},
   "source": [
    "## Separar en líneas"
   ]
  },
  {
   "cell_type": "markdown",
   "metadata": {},
   "source": [
    "## Enviar a los distintos OCRs"
   ]
  },
  {
   "cell_type": "code",
   "execution_count": 3,
   "metadata": {},
   "outputs": [
    {
     "name": "stdout",
     "output_type": "stream",
     "text": [
      "WARNING:tensorflow:From c:\\Users\\53552\\AppData\\Local\\Programs\\Python\\Python311\\Lib\\site-packages\\keras\\src\\losses.py:2976: The name tf.losses.sparse_softmax_cross_entropy is deprecated. Please use tf.compat.v1.losses.sparse_softmax_cross_entropy instead.\n",
      "\n",
      "WARNING:tensorflow:From c:\\Users\\53552\\Desktop\\Comp. Science\\4to año\\Machine Learning\\Proyecto Kevin\\Actas-Capitulares-de-la-Habana\\Recognition\\SimpleHTR\\SimpleHTR\\src\\model.py:11: The name tf.disable_eager_execution is deprecated. Please use tf.compat.v1.disable_eager_execution instead.\n",
      "\n",
      "WARNING:tensorflow:From c:\\Users\\53552\\Desktop\\Comp. Science\\4to año\\Machine Learning\\Proyecto Kevin\\Actas-Capitulares-de-la-Habana\\Recognition\\SimpleHTR\\SimpleHTR\\src\\model.py:149: The name tf.train.Saver is deprecated. Please use tf.compat.v1.train.Saver instead.\n",
      "\n"
     ]
    }
   ],
   "source": [
    "import os\n",
    "from typing import List\n",
    "from Recognition.Kraken.kraken_model import get_transcription\n",
    "\n",
    "processed_photos = os.listdir(output_folder)\n",
    "\n",
    "transcriptions = []\n",
    "\n",
    "for photo in processed_photos:\n",
    "    transcriptions.append(get_transcription(output_folder + '/' + photo))\n",
    "    \n",
    "# output_ocr = 'data/output_ocr'\n",
    "# transcriptions = os.listdir(output_ocr)\n",
    "# results_from_ocrs:List[List[List[str]]] = []\n",
    "\n",
    "ocr_results = []\n",
    "\n",
    "# Para cada imagen tenemos una transcripcion\n",
    "for image in transcriptions:\n",
    "    lines = []\n",
    "    for model in image:         # La transcripcion viene del modo model: x text: y\n",
    "        text = model['text']\n",
    "        lines = text.split('\\n')        # Separamos el texto por lineas\n",
    "    ocr_results.append(lines)\n"
   ]
  },
  {
   "cell_type": "markdown",
   "metadata": {},
   "source": [
    "## Correcciones"
   ]
  },
  {
   "cell_type": "code",
   "execution_count": 4,
   "metadata": {},
   "outputs": [
    {
     "ename": "KeyboardInterrupt",
     "evalue": "",
     "output_type": "error",
     "traceback": [
      "\u001b[1;31m---------------------------------------------------------------------------\u001b[0m",
      "\u001b[1;31mKeyboardInterrupt\u001b[0m                         Traceback (most recent call last)",
      "Cell \u001b[1;32mIn[4], line 25\u001b[0m\n\u001b[0;32m     22\u001b[0m frequency_dictionary_path \u001b[38;5;241m=\u001b[39m \u001b[38;5;124m\"\u001b[39m\u001b[38;5;124mserialization/spanish_frequency_dictionary.txt\u001b[39m\u001b[38;5;124m\"\u001b[39m\n\u001b[0;32m     24\u001b[0m \u001b[38;5;66;03m# Cargar modelo SymSpell y Spacy\u001b[39;00m\n\u001b[1;32m---> 25\u001b[0m nlp, sym_spell \u001b[38;5;241m=\u001b[39m \u001b[43mload_corrector_model\u001b[49m\u001b[43m(\u001b[49m\n\u001b[0;32m     26\u001b[0m \u001b[43m    \u001b[49m\u001b[43mspacy_model\u001b[49m\u001b[38;5;241;43m=\u001b[39;49m\u001b[43mspacy_model\u001b[49m\u001b[43m,\u001b[49m\n\u001b[0;32m     27\u001b[0m \u001b[43m    \u001b[49m\u001b[43mfrequency_dictionary_path\u001b[49m\u001b[38;5;241;43m=\u001b[39;49m\u001b[43mfrequency_dictionary_path\u001b[49m\u001b[43m,\u001b[49m\n\u001b[0;32m     28\u001b[0m \u001b[43m    \u001b[49m\u001b[43mmax_edit_distance\u001b[49m\u001b[38;5;241;43m=\u001b[39;49m\u001b[38;5;241;43m3\u001b[39;49m\u001b[43m,\u001b[49m\n\u001b[0;32m     29\u001b[0m \u001b[43m    \u001b[49m\u001b[43mprefix_length\u001b[49m\u001b[38;5;241;43m=\u001b[39;49m\u001b[38;5;241;43m7\u001b[39;49m\n\u001b[0;32m     30\u001b[0m \u001b[43m)\u001b[49m\n\u001b[0;32m     32\u001b[0m gemini_model_name\u001b[38;5;241m=\u001b[39m\u001b[38;5;124m\"\u001b[39m\u001b[38;5;124mgemini-2.0-flash-exp\u001b[39m\u001b[38;5;124m\"\u001b[39m\n\u001b[0;32m     34\u001b[0m \u001b[38;5;66;03m# Crear el sistema de instrucciones para Gemini\u001b[39;00m\n",
      "File \u001b[1;32mc:\\Users\\53552\\Desktop\\Comp. Science\\4to año\\Machine Learning\\Proyecto Kevin\\Actas-Capitulares-de-la-Habana\\serialization\\serialization.py:84\u001b[0m, in \u001b[0;36mload_corrector_model\u001b[1;34m(spacy_model, frequency_dictionary_path, max_edit_distance, prefix_length)\u001b[0m\n\u001b[0;32m     81\u001b[0m nlp \u001b[38;5;241m=\u001b[39m spacy\u001b[38;5;241m.\u001b[39mload(spacy_model)\n\u001b[0;32m     82\u001b[0m sym_spell \u001b[38;5;241m=\u001b[39m SymSpell(max_dictionary_edit_distance\u001b[38;5;241m=\u001b[39mmax_edit_distance, prefix_length\u001b[38;5;241m=\u001b[39mprefix_length)\n\u001b[1;32m---> 84\u001b[0m \u001b[38;5;28;01mif\u001b[39;00m \u001b[38;5;129;01mnot\u001b[39;00m \u001b[43msym_spell\u001b[49m\u001b[38;5;241;43m.\u001b[39;49m\u001b[43mload_dictionary\u001b[49m\u001b[43m(\u001b[49m\u001b[43mfrequency_dictionary_path\u001b[49m\u001b[43m,\u001b[49m\u001b[43m \u001b[49m\u001b[38;5;241;43m0\u001b[39;49m\u001b[43m,\u001b[49m\u001b[43m \u001b[49m\u001b[38;5;241;43m1\u001b[39;49m\u001b[43m,\u001b[49m\u001b[43m \u001b[49m\u001b[43mseparator\u001b[49m\u001b[38;5;241;43m=\u001b[39;49m\u001b[38;5;124;43m\"\u001b[39;49m\u001b[38;5;124;43m \u001b[39;49m\u001b[38;5;124;43m\"\u001b[39;49m\u001b[43m,\u001b[49m\u001b[43m \u001b[49m\u001b[43mencoding\u001b[49m\u001b[38;5;241;43m=\u001b[39;49m\u001b[38;5;124;43m\"\u001b[39;49m\u001b[38;5;124;43mutf-8\u001b[39;49m\u001b[38;5;124;43m\"\u001b[39;49m\u001b[43m)\u001b[49m:\n\u001b[0;32m     85\u001b[0m     \u001b[38;5;28;01mraise\u001b[39;00m \u001b[38;5;167;01mValueError\u001b[39;00m(\u001b[38;5;124mf\u001b[39m\u001b[38;5;124m\"\u001b[39m\u001b[38;5;124mNo se pudo cargar el diccionario \u001b[39m\u001b[38;5;132;01m{\u001b[39;00mfrequency_dictionary_path\u001b[38;5;132;01m}\u001b[39;00m\u001b[38;5;124m\"\u001b[39m)\n\u001b[0;32m     87\u001b[0m \u001b[38;5;28;01mreturn\u001b[39;00m nlp, sym_spell\n",
      "File \u001b[1;32mc:\\Users\\53552\\AppData\\Local\\Programs\\Python\\Python311\\Lib\\site-packages\\symspellpy\\symspellpy.py:343\u001b[0m, in \u001b[0;36mSymSpell.load_dictionary\u001b[1;34m(self, corpus, term_index, count_index, separator, encoding)\u001b[0m\n\u001b[0;32m    341\u001b[0m     \u001b[38;5;28;01mreturn\u001b[39;00m \u001b[38;5;28;01mFalse\u001b[39;00m\n\u001b[0;32m    342\u001b[0m \u001b[38;5;28;01mwith\u001b[39;00m \u001b[38;5;28mopen\u001b[39m(corpus, \u001b[38;5;124m\"\u001b[39m\u001b[38;5;124mr\u001b[39m\u001b[38;5;124m\"\u001b[39m, encoding\u001b[38;5;241m=\u001b[39mencoding) \u001b[38;5;28;01mas\u001b[39;00m infile:\n\u001b[1;32m--> 343\u001b[0m     \u001b[38;5;28;01mreturn\u001b[39;00m \u001b[38;5;28;43mself\u001b[39;49m\u001b[38;5;241;43m.\u001b[39;49m\u001b[43m_load_dictionary_stream\u001b[49m\u001b[43m(\u001b[49m\n\u001b[0;32m    344\u001b[0m \u001b[43m        \u001b[49m\u001b[43minfile\u001b[49m\u001b[43m,\u001b[49m\u001b[43m \u001b[49m\u001b[43mterm_index\u001b[49m\u001b[43m,\u001b[49m\u001b[43m \u001b[49m\u001b[43mcount_index\u001b[49m\u001b[43m,\u001b[49m\u001b[43m \u001b[49m\u001b[43mseparator\u001b[49m\n\u001b[0;32m    345\u001b[0m \u001b[43m    \u001b[49m\u001b[43m)\u001b[49m\n",
      "File \u001b[1;32mc:\\Users\\53552\\AppData\\Local\\Programs\\Python\\Python311\\Lib\\site-packages\\symspellpy\\symspellpy.py:1127\u001b[0m, in \u001b[0;36mSymSpell._load_dictionary_stream\u001b[1;34m(self, corpus_stream, term_index, count_index, separator)\u001b[0m\n\u001b[0;32m   1125\u001b[0m         \u001b[38;5;28;01mcontinue\u001b[39;00m\n\u001b[0;32m   1126\u001b[0m     key \u001b[38;5;241m=\u001b[39m parts[term_index]\n\u001b[1;32m-> 1127\u001b[0m     \u001b[38;5;28;43mself\u001b[39;49m\u001b[38;5;241;43m.\u001b[39;49m\u001b[43mcreate_dictionary_entry\u001b[49m\u001b[43m(\u001b[49m\u001b[43mkey\u001b[49m\u001b[43m,\u001b[49m\u001b[43m \u001b[49m\u001b[43mcount\u001b[49m\u001b[43m)\u001b[49m\n\u001b[0;32m   1128\u001b[0m \u001b[38;5;28;01mreturn\u001b[39;00m \u001b[38;5;28;01mTrue\u001b[39;00m\n",
      "File \u001b[1;32mc:\\Users\\53552\\AppData\\Local\\Programs\\Python\\Python311\\Lib\\site-packages\\symspellpy\\symspellpy.py:254\u001b[0m, in \u001b[0;36mSymSpell.create_dictionary_entry\u001b[1;34m(self, key, count)\u001b[0m\n\u001b[0;32m    252\u001b[0m edits \u001b[38;5;241m=\u001b[39m \u001b[38;5;28mself\u001b[39m\u001b[38;5;241m.\u001b[39m_edits_prefix(key)\n\u001b[0;32m    253\u001b[0m \u001b[38;5;28;01mfor\u001b[39;00m delete \u001b[38;5;129;01min\u001b[39;00m edits:\n\u001b[1;32m--> 254\u001b[0m     \u001b[38;5;28mself\u001b[39m\u001b[38;5;241m.\u001b[39m_deletes[delete]\u001b[38;5;241m.\u001b[39mappend(key)\n\u001b[0;32m    255\u001b[0m \u001b[38;5;28;01mreturn\u001b[39;00m \u001b[38;5;28;01mTrue\u001b[39;00m\n",
      "\u001b[1;31mKeyboardInterrupt\u001b[0m: "
     ]
    }
   ],
   "source": [
    "from serialization.serialization import correction, combine, load_corrector_model\n",
    "import google.generativeai as genai\n",
    "from dotenv import load_dotenv\n",
    "\n",
    "# results_from_ocr = [\n",
    "#     [\n",
    "#         \"Essta es una prueva de ectraccion de teexto. Connoscida cosa sea a todos los queesta carta uieren como yo don fffffff por la gracia de dios hey de Castiella.\",\n",
    "#         \"Asta carta fue escrita en el anno del senyor de 1493, y  cosas de gran ymportancia para los reynos.\"\n",
    "#     ],\n",
    "#     [\n",
    "#         \"Essa s una prsueva de etraccion de . Connoda cosa sea a tdos as los qeesta carta ueren como yo don Fferrando por la gracia de d hey de Castiella.\",\n",
    "#         \"Asta s fue escrita en el ano de seyor de 143, y consigna cossdas de gran ymportana para los reynos.\"\n",
    "#     ],\n",
    "# ]\n",
    "\n",
    "# Cargar claves de entorno para Gemini\n",
    "load_dotenv()\n",
    "GENAI_API_KEY = os.getenv(\"GENAI_API_KEY\")\n",
    "genai.configure(api_key=GENAI_API_KEY)\n",
    "\n",
    "spacy_model = \"es_core_news_sm\"\n",
    "frequency_dictionary_path = \"serialization/spanish_frequency_dictionary.txt\"\n",
    "\n",
    "# Cargar modelo SymSpell y Spacy\n",
    "nlp, sym_spell = load_corrector_model(\n",
    "    spacy_model=spacy_model,\n",
    "    frequency_dictionary_path=frequency_dictionary_path,\n",
    "    max_edit_distance=3,\n",
    "    prefix_length=7\n",
    ")\n",
    "\n",
    "gemini_model_name=\"gemini-2.0-flash-exp\"\n",
    "\n",
    "# Crear el sistema de instrucciones para Gemini\n",
    "chat = genai.GenerativeModel(\n",
    "    model_name=gemini_model_name,\n",
    "    system_instruction=[\n",
    "        \"\"\"\n",
    "        Eres un asistente que ayuda a refinar textos extraídos de manuscritos antiguos en español.Los textos son documentos históricos\n",
    "        extraídos mediante varios modelos OCR, por lo que pueden contener errores típicos del procesamiento, palabras incorrectas y poca coherencia. Los documentos son actas capitulares de La Habana, Cuba; de los siglos XVI y XVII, escritas en letra procesal cortesana, con términos de la época y ambiguedades, ten esto en cuenta y corrigelo, cambia las palabras incorrectas por palabras parecidas o cercanas sintácticamente que tengan sentido en este contexto y dame un texto lo mas coherente pero fiel al original posible.\n",
    "        \"\"\"\n",
    "    ]\n",
    ").start_chat(history=[])\n"
   ]
  },
  {
   "cell_type": "code",
   "execution_count": null,
   "metadata": {},
   "outputs": [],
   "source": [
    "results_from_corrections: List[List[str]] = []\n",
    "\n",
    "for document in ocr_results:\n",
    "    aux: List[str] = []\n",
    "    for line in document:\n",
    "        aux.append(correction(line, nlp, sym_spell, chat))\n",
    "    results_from_corrections.append(aux)\n",
    "    \n",
    "print(results_from_corrections)"
   ]
  },
  {
   "cell_type": "markdown",
   "metadata": {},
   "source": [
    "## Decisión Final"
   ]
  },
  {
   "cell_type": "code",
   "execution_count": null,
   "metadata": {},
   "outputs": [],
   "source": [
    "result:List[str] = []\n",
    "\n",
    "# Crear el modelo generativo y configurar el sistema de instrucciones\n",
    "chat2 = genai.GenerativeModel(\n",
    "    model_name=gemini_model_name,\n",
    "    system_instruction=\"\"\"\n",
    "    Eres un asistente que ayuda a refinar textos. Analiza las siguientes representaciones de una línea de texto,\n",
    "    y reescribe solo una en un formato limpio, coherente y gramaticalmente correcto. Los textos son documentos históricos\n",
    "    extraídos mediante OCR, por lo que pueden contener errores típicos del procesamiento OCR. Los documentos son\n",
    "    cartas en Cuba de los siglos XV y XVI, manten el español antiguo en tu respuesta.\n",
    "    \"\"\"\n",
    ").start_chat(history=[])\n",
    "\n",
    "for it in range(len(ocr_results[0])):\n",
    "    aux: List[str] = []\n",
    "    for i in range(len(ocr_results)):\n",
    "        aux.append(results_from_corrections[i][it])\n",
    "    \n",
    "    result.append(combine(aux, chat2))\n",
    "\n",
    "print(\"RESULT FINAL\")\n",
    "print(result)"
   ]
  }
 ],
 "metadata": {
  "kernelspec": {
   "display_name": "Python 3",
   "language": "python",
   "name": "python3"
  },
  "language_info": {
   "codemirror_mode": {
    "name": "ipython",
    "version": 3
   },
   "file_extension": ".py",
   "mimetype": "text/x-python",
   "name": "python",
   "nbconvert_exporter": "python",
   "pygments_lexer": "ipython3",
   "version": "3.11.5"
  }
 },
 "nbformat": 4,
 "nbformat_minor": 2
}
