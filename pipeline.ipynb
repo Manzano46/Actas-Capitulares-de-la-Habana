{
 "cells": [
  {
   "cell_type": "markdown",
   "metadata": {},
   "source": [
    "# Pipeline \n",
    "- Insertar Imagen\n",
    "- Procesar Imagen\n",
    "- Separar en líneas\n",
    "- Enviar a los distintos OCRs\n",
    "- Correcciones \n",
    "- Decisión Final"
   ]
  },
  {
   "cell_type": "markdown",
   "metadata": {},
   "source": [
    "## Insertar Imagen"
   ]
  },
  {
   "cell_type": "code",
   "execution_count": null,
   "metadata": {},
   "outputs": [],
   "source": []
  },
  {
   "cell_type": "markdown",
   "metadata": {},
   "source": [
    "# Procesar Imagen"
   ]
  },
  {
   "cell_type": "code",
   "execution_count": null,
   "metadata": {},
   "outputs": [],
   "source": []
  },
  {
   "cell_type": "markdown",
   "metadata": {},
   "source": [
    "## Separar en líneas"
   ]
  },
  {
   "cell_type": "code",
   "execution_count": null,
   "metadata": {},
   "outputs": [],
   "source": []
  },
  {
   "cell_type": "markdown",
   "metadata": {},
   "source": [
    "## Enviar a los distintos OCRs"
   ]
  },
  {
   "cell_type": "code",
   "execution_count": null,
   "metadata": {},
   "outputs": [],
   "source": []
  },
  {
   "cell_type": "markdown",
   "metadata": {},
   "source": [
    "## Correcciones"
   ]
  },
  {
   "cell_type": "code",
   "execution_count": 1,
   "metadata": {},
   "outputs": [
    {
     "name": "stderr",
     "output_type": "stream",
     "text": [
      "c:\\Users\\Admin\\miniconda3\\envs\\posprocesamiento\\lib\\site-packages\\tqdm\\auto.py:21: TqdmWarning: IProgress not found. Please update jupyter and ipywidgets. See https://ipywidgets.readthedocs.io/en/stable/user_install.html\n",
      "  from .autonotebook import tqdm as notebook_tqdm\n"
     ]
    }
   ],
   "source": [
    "from typing import List\n",
    "from serialization.serialization import correction, combine, load_corrector_model\n",
    "import os\n",
    "import google.generativeai as genai\n",
    "from dotenv import load_dotenv\n",
    "\n",
    "results_from_ocr = [\n",
    "    [\n",
    "        \"Essta es una prueva de ectraccion de teexto. Connoscida cosa sea a todos los queesta carta uieren como yo don fffffff por la gracia de dios hey de Castiella.\",\n",
    "        \"Asta carta fue escrita en el anno del senyor de 1493, y  cosas de gran ymportancia para los reynos.\"\n",
    "    ],\n",
    "    [\n",
    "        \"Essa s una prsueva de etraccion de . Connoda cosa sea a tdos as los qeesta carta ueren como yo don Fferrando por la gracia de d hey de Castiella.\",\n",
    "        \"Asta s fue escrita en el ano de seyor de 143, y consigna cossdas de gran ymportana para los reynos.\"\n",
    "    ],\n",
    "]\n",
    "\n",
    "# Cargar claves de entorno para Gemini\n",
    "load_dotenv()\n",
    "GENAI_API_KEY = os.getenv(\"GENAI_API_KEY\")\n",
    "genai.configure(api_key=GENAI_API_KEY)\n",
    "\n",
    "spacy_model = \"es_core_news_sm\"\n",
    "frequency_dictionary_path = \"serialization/spanish_frequency_dictionary.txt\"\n",
    "\n",
    "# Cargar modelo SymSpell y Spacy\n",
    "nlp, sym_spell = load_corrector_model(\n",
    "    spacy_model=spacy_model,\n",
    "    frequency_dictionary_path=frequency_dictionary_path,\n",
    "    max_edit_distance=3,\n",
    "    prefix_length=7\n",
    ")\n",
    "\n",
    "gemini_model_name=\"gemini-2.0-flash-exp\"\n",
    "\n",
    "# Crear el sistema de instrucciones para Gemini\n",
    "chat = genai.GenerativeModel(\n",
    "    model_name=gemini_model_name,\n",
    "    system_instruction=[\n",
    "        \"\"\"\n",
    "        Eres un asistente que ayuda a refinar textos. Analiza el siguiente texto original y corregido,\n",
    "        y reescríbelo en un formato limpio, coherente y gramaticalmente correcto. Los textos son documentos históricos\n",
    "        extraídos mediante OCR, por lo que pueden contener errores típicos del procesamiento OCR. Los documentos son\n",
    "        cartas en Cuba de los siglos XV y XVI, manten el español antiguo.\n",
    "        \"\"\"\n",
    "    ]\n",
    ").start_chat(history=[])\n"
   ]
  },
  {
   "cell_type": "code",
   "execution_count": 2,
   "metadata": {},
   "outputs": [
    {
     "name": "stdout",
     "output_type": "stream",
     "text": [
      "[['Esta es una prueba de extracción de texto. Conocida cosa sea a todos los que esta carta vieren, como yo, don [nombre ilegible], por la gracia de Dios, [rey/señor] de Castilla.', 'Esta carta fue escrita en el año del Señor de 1493, y trata de cosas de gran importancia para los reinos.'], ['Esta es una prueba de extracción. Conocida cosa sea a todos los que esta carta vieren, como yo, don Ferrando, por la gracia de Dios, [rey/señor] de Castilla.', 'Esta fue escrita en el año del Señor de 1493, y consigna cosas de gran importancia para los reinos.']]\n"
     ]
    }
   ],
   "source": [
    "results_from_corrections: List[List[str]] = []\n",
    "\n",
    "for document in results_from_ocr:\n",
    "    aux: List[str] = []\n",
    "    for line in document:\n",
    "        aux.append(correction(line, nlp, sym_spell, chat))\n",
    "    results_from_corrections.append(aux)\n",
    "    \n",
    "print(results_from_corrections)"
   ]
  },
  {
   "cell_type": "markdown",
   "metadata": {},
   "source": [
    "## Decisión Final"
   ]
  },
  {
   "cell_type": "code",
   "execution_count": 3,
   "metadata": {},
   "outputs": [
    {
     "name": "stdout",
     "output_type": "stream",
     "text": [
      "RESULT FINAL\n",
      "['Conocida cosa sea a todos los que esta carta vieren, como yo, don Ferrando, por la gracia de Dios, [rey/señor] de Castilla.', 'Esta fue escrita en el año del Señor de 1493, y consigna cosas de gran importancia para los reinos.']\n"
     ]
    }
   ],
   "source": [
    "result:List[str] = []\n",
    "\n",
    "# Crear el modelo generativo y configurar el sistema de instrucciones\n",
    "chat2 = genai.GenerativeModel(\n",
    "    model_name=gemini_model_name,\n",
    "    system_instruction=\"\"\"\n",
    "    Eres un asistente que ayuda a refinar textos. Analiza las siguientes representaciones de una línea de texto,\n",
    "    y reescribe solo una en un formato limpio, coherente y gramaticalmente correcto. Los textos son documentos históricos\n",
    "    extraídos mediante OCR, por lo que pueden contener errores típicos del procesamiento OCR. Los documentos son\n",
    "    cartas en Cuba de los siglos XV y XVI, manten el español antiguo en tu respuesta.\n",
    "    \"\"\"\n",
    ").start_chat(history=[])\n",
    "\n",
    "for it in range(len(results_from_ocr[0])):\n",
    "    aux: List[str] = []\n",
    "    for i in range(len(results_from_ocr)):\n",
    "        aux.append(results_from_corrections[i][it])\n",
    "    \n",
    "    result.append(combine(aux, chat2))\n",
    "\n",
    "print(\"RESULT FINAL\")\n",
    "print(result)"
   ]
  }
 ],
 "metadata": {
  "kernelspec": {
   "display_name": "posprocesamiento",
   "language": "python",
   "name": "python3"
  },
  "language_info": {
   "codemirror_mode": {
    "name": "ipython",
    "version": 3
   },
   "file_extension": ".py",
   "mimetype": "text/x-python",
   "name": "python",
   "nbconvert_exporter": "python",
   "pygments_lexer": "ipython3",
   "version": "3.9.21"
  }
 },
 "nbformat": 4,
 "nbformat_minor": 2
}
