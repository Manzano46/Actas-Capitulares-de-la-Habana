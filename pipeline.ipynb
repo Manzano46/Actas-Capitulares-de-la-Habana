{
 "cells": [
  {
   "cell_type": "markdown",
   "metadata": {},
   "source": [
    "# Pipeline \n",
    "- Insertar Imagen\n",
    "- Procesar Imagen\n",
    "- Separar en líneas\n",
    "- Enviar a los distintos OCRs\n",
    "- Correcciones \n",
    "- Decisión Final"
   ]
  },
  {
   "cell_type": "markdown",
   "metadata": {},
   "source": [
    "## Insertar Imágenes"
   ]
  },
  {
   "cell_type": "code",
   "execution_count": 4,
   "metadata": {},
   "outputs": [],
   "source": [
    "input_folder = \"data/input\"\n",
    "output_folder = \"data/output_preprocessing\""
   ]
  },
  {
   "cell_type": "markdown",
   "metadata": {},
   "source": [
    "# Procesar Imágenes"
   ]
  },
  {
   "cell_type": "code",
   "execution_count": 2,
   "metadata": {},
   "outputs": [
    {
     "name": "stdout",
     "output_type": "stream",
     "text": [
      "Procesada: Image-1.jpg -> data/output\\Image-1.png\n",
      "Procesada: Image-10.jpg -> data/output\\Image-10.png\n",
      "Procesada: Image-100.jpg -> data/output\\Image-100.png\n",
      "Procesada: Image-11.jpg -> data/output\\Image-11.png\n",
      "Procesada: Image-12.jpg -> data/output\\Image-12.png\n",
      "Procesada: Image-13.jpg -> data/output\\Image-13.png\n",
      "Procesada: Image-14.jpg -> data/output\\Image-14.png\n",
      "Procesada: Image-15.jpg -> data/output\\Image-15.png\n",
      "Procesada: Image-16.jpg -> data/output\\Image-16.png\n",
      "Procesada: Image-17.jpg -> data/output\\Image-17.png\n",
      "Procesada: Image-18.jpg -> data/output\\Image-18.png\n",
      "Procesada: Image-19.jpg -> data/output\\Image-19.png\n",
      "Procesada: Image-2.jpg -> data/output\\Image-2.png\n",
      "Procesada: Image-20.jpg -> data/output\\Image-20.png\n",
      "Procesada: Image-21.jpg -> data/output\\Image-21.png\n",
      "Procesada: Image-22.jpg -> data/output\\Image-22.png\n",
      "Procesada: Image-23.jpg -> data/output\\Image-23.png\n",
      "Procesada: Image-24.jpg -> data/output\\Image-24.png\n",
      "Procesada: Image-25.jpg -> data/output\\Image-25.png\n",
      "Procesada: Image-26.jpg -> data/output\\Image-26.png\n",
      "Procesada: Image-27.jpg -> data/output\\Image-27.png\n",
      "Procesada: Image-28.jpg -> data/output\\Image-28.png\n",
      "Procesada: Image-29.jpg -> data/output\\Image-29.png\n",
      "Procesada: Image-3.jpg -> data/output\\Image-3.png\n",
      "Procesada: Image-30.jpg -> data/output\\Image-30.png\n",
      "Procesada: Image-31.jpg -> data/output\\Image-31.png\n",
      "Procesada: Image-32.jpg -> data/output\\Image-32.png\n",
      "Procesada: Image-33.jpg -> data/output\\Image-33.png\n",
      "Procesada: Image-34.jpg -> data/output\\Image-34.png\n",
      "Procesada: Image-35.jpg -> data/output\\Image-35.png\n",
      "Procesada: Image-36.jpg -> data/output\\Image-36.png\n",
      "Procesada: Image-37.jpg -> data/output\\Image-37.png\n",
      "Procesada: Image-38.jpg -> data/output\\Image-38.png\n",
      "Procesada: Image-39.jpg -> data/output\\Image-39.png\n",
      "Procesada: Image-4.jpg -> data/output\\Image-4.png\n",
      "Procesada: Image-40.jpg -> data/output\\Image-40.png\n",
      "Procesada: Image-41.jpg -> data/output\\Image-41.png\n",
      "Procesada: Image-42.jpg -> data/output\\Image-42.png\n",
      "Procesada: Image-43.jpg -> data/output\\Image-43.png\n",
      "Procesada: Image-44.jpg -> data/output\\Image-44.png\n",
      "Procesada: Image-45.jpg -> data/output\\Image-45.png\n",
      "Procesada: Image-46.jpg -> data/output\\Image-46.png\n",
      "Procesada: Image-47.jpg -> data/output\\Image-47.png\n",
      "Procesada: Image-48.jpg -> data/output\\Image-48.png\n",
      "Procesada: Image-49.jpg -> data/output\\Image-49.png\n",
      "Procesada: Image-5.jpg -> data/output\\Image-5.png\n",
      "Procesada: Image-50.jpg -> data/output\\Image-50.png\n",
      "Procesada: Image-51.jpg -> data/output\\Image-51.png\n",
      "Procesada: Image-52.jpg -> data/output\\Image-52.png\n",
      "Procesada: Image-53.jpg -> data/output\\Image-53.png\n",
      "Procesada: Image-54.jpg -> data/output\\Image-54.png\n",
      "Procesada: Image-55.jpg -> data/output\\Image-55.png\n",
      "Procesada: Image-56.jpg -> data/output\\Image-56.png\n",
      "Procesada: Image-57.jpg -> data/output\\Image-57.png\n",
      "Procesada: Image-58.jpg -> data/output\\Image-58.png\n",
      "Procesada: Image-59.jpg -> data/output\\Image-59.png\n",
      "Procesada: Image-6.jpg -> data/output\\Image-6.png\n",
      "Procesada: Image-60.jpg -> data/output\\Image-60.png\n",
      "Procesada: Image-61.jpg -> data/output\\Image-61.png\n",
      "Procesada: Image-62.jpg -> data/output\\Image-62.png\n",
      "Procesada: Image-63.jpg -> data/output\\Image-63.png\n",
      "Procesada: Image-64.jpg -> data/output\\Image-64.png\n",
      "Procesada: Image-65.jpg -> data/output\\Image-65.png\n",
      "Procesada: Image-66.jpg -> data/output\\Image-66.png\n",
      "Procesada: Image-67.jpg -> data/output\\Image-67.png\n",
      "Procesada: Image-68.jpg -> data/output\\Image-68.png\n",
      "Procesada: Image-69.jpg -> data/output\\Image-69.png\n",
      "Procesada: Image-7.jpg -> data/output\\Image-7.png\n",
      "Procesada: Image-70.jpg -> data/output\\Image-70.png\n",
      "Procesada: Image-71.jpg -> data/output\\Image-71.png\n",
      "Procesada: Image-72.jpg -> data/output\\Image-72.png\n",
      "Procesada: Image-73.jpg -> data/output\\Image-73.png\n",
      "Procesada: Image-74.jpg -> data/output\\Image-74.png\n",
      "Procesada: Image-75.jpg -> data/output\\Image-75.png\n",
      "Procesada: Image-76.jpg -> data/output\\Image-76.png\n",
      "Procesada: Image-77.jpg -> data/output\\Image-77.png\n",
      "Procesada: Image-78.jpg -> data/output\\Image-78.png\n",
      "Procesada: Image-79.jpg -> data/output\\Image-79.png\n",
      "Procesada: Image-8.jpg -> data/output\\Image-8.png\n",
      "Procesada: Image-80.jpg -> data/output\\Image-80.png\n",
      "Procesada: Image-81.jpg -> data/output\\Image-81.png\n",
      "Procesada: Image-82.jpg -> data/output\\Image-82.png\n",
      "Procesada: Image-83.jpg -> data/output\\Image-83.png\n",
      "Procesada: Image-84.jpg -> data/output\\Image-84.png\n",
      "Procesada: Image-85.jpg -> data/output\\Image-85.png\n",
      "Procesada: Image-86.jpg -> data/output\\Image-86.png\n",
      "Procesada: Image-87.jpg -> data/output\\Image-87.png\n",
      "Procesada: Image-88.jpg -> data/output\\Image-88.png\n",
      "Procesada: Image-89.jpg -> data/output\\Image-89.png\n",
      "Procesada: Image-9.jpg -> data/output\\Image-9.png\n",
      "Procesada: Image-90.jpg -> data/output\\Image-90.png\n",
      "Procesada: Image-91.jpg -> data/output\\Image-91.png\n",
      "Procesada: Image-92.jpg -> data/output\\Image-92.png\n",
      "Procesada: Image-93.jpg -> data/output\\Image-93.png\n",
      "Procesada: Image-94.jpg -> data/output\\Image-94.png\n",
      "Procesada: Image-95.jpg -> data/output\\Image-95.png\n",
      "Procesada: Image-96.jpg -> data/output\\Image-96.png\n",
      "Procesada: Image-97.jpg -> data/output\\Image-97.png\n",
      "Procesada: Image-98.jpg -> data/output\\Image-98.png\n",
      "Procesada: Image-99.jpg -> data/output\\Image-99.png\n",
      "Procesamiento completo.\n"
     ]
    }
   ],
   "source": [
    "from Preprocessing.pipeline2 import cleanup_image\n",
    "\n",
    "cleanup_image(input_folder, output_folder)"
   ]
  },
  {
   "cell_type": "markdown",
   "metadata": {},
   "source": [
    "## Separar en líneas"
   ]
  },
  {
   "cell_type": "markdown",
   "metadata": {},
   "source": [
    "## Enviar a los distintos OCRs"
   ]
  },
  {
   "cell_type": "code",
   "execution_count": 5,
   "metadata": {},
   "outputs": [
    {
     "name": "stdout",
     "output_type": "stream",
     "text": [
      "Image-1.png\n",
      "Image-10.png\n",
      "Image-100.png\n",
      "Image-11.png\n",
      "Image-12.png\n",
      "Image-13.png\n",
      "Image-14.png\n",
      "Image-15.png\n",
      "Image-16.png\n",
      "Image-17.png\n",
      "Image-18.png\n",
      "Image-19.png\n",
      "Image-2.png\n",
      "Image-20.png\n",
      "Image-21.png\n",
      "Image-22.png\n",
      "Image-23.png\n",
      "Image-24.png\n",
      "Image-25.png\n",
      "Image-26.png\n",
      "Image-27.png\n",
      "Image-28.png\n",
      "Image-29.png\n",
      "Image-3.png\n",
      "Image-30.png\n",
      "Image-31.png\n",
      "Image-32.png\n",
      "Image-33.png\n",
      "Image-34.png\n",
      "Image-35.png\n",
      "Image-36.png\n",
      "Image-37.png\n",
      "Image-38.png\n",
      "Image-39.png\n",
      "Image-4.png\n",
      "Image-40.png\n",
      "Image-41.png\n",
      "Image-42.png\n",
      "Image-43.png\n",
      "Image-44.png\n",
      "Image-45.png\n",
      "Image-46.png\n",
      "Image-47.png\n",
      "Image-48.png\n",
      "Image-49.png\n",
      "Image-5.png\n",
      "Image-50.png\n",
      "Image-51.png\n",
      "Image-52.png\n",
      "Image-53.png\n",
      "Image-54.png\n",
      "Image-55.png\n",
      "Image-56.png\n",
      "Image-57.png\n",
      "Image-58.png\n",
      "Image-59.png\n",
      "Image-6.png\n",
      "Image-60.png\n",
      "Image-61.png\n",
      "Image-62.png\n",
      "Image-63.png\n",
      "Image-64.png\n",
      "Image-65.png\n",
      "Image-66.png\n",
      "Image-67.png\n",
      "Image-68.png\n",
      "Image-69.png\n",
      "Image-7.png\n",
      "Image-70.png\n",
      "Image-71.png\n",
      "Image-72.png\n",
      "Image-73.png\n",
      "Image-74.png\n",
      "Image-75.png\n",
      "Image-76.png\n",
      "Image-77.png\n",
      "Image-78.png\n",
      "Image-79.png\n",
      "Image-8.png\n",
      "Image-80.png\n",
      "Image-81.png\n",
      "Image-82.png\n",
      "Image-83.png\n",
      "Image-84.png\n",
      "Image-85.png\n",
      "Image-86.png\n",
      "Image-87.png\n",
      "Image-88.png\n",
      "Image-89.png\n",
      "Image-9.png\n",
      "Image-90.png\n",
      "Image-91.png\n",
      "Image-92.png\n",
      "Image-93.png\n",
      "Image-94.png\n",
      "Image-95.png\n",
      "Image-96.png\n",
      "Image-97.png\n",
      "Image-98.png\n",
      "Image-99.png\n"
     ]
    }
   ],
   "source": [
    "import os\n",
    "from typing import List\n",
    "from Recognition.Kraken.kraken_model import get_transcription\n",
    "\n",
    "processed_photos = os.listdir(output_folder)\n",
    "\n",
    "for photo in processed_photos:\n",
    "    get_transcription(photo)\n",
    "    \n",
    "output_ocr = 'data/output_ocr'\n",
    "transcriptions = os.listdir(output_ocr)\n",
    "results_from_ocrs:List[List[List[str]]] = []\n",
    "\n",
    "for text in transcription:\n",
    "    text.split('$$')\n",
    "    # En dependencia de como se guarde hay que picar para los diferentes OCR para las diferentes lineas\n"
   ]
  },
  {
   "cell_type": "markdown",
   "metadata": {},
   "source": [
    "## Correcciones"
   ]
  },
  {
   "cell_type": "code",
   "execution_count": 1,
   "metadata": {},
   "outputs": [
    {
     "name": "stderr",
     "output_type": "stream",
     "text": [
      "c:\\Users\\Admin\\miniconda3\\envs\\posprocesamiento\\lib\\site-packages\\tqdm\\auto.py:21: TqdmWarning: IProgress not found. Please update jupyter and ipywidgets. See https://ipywidgets.readthedocs.io/en/stable/user_install.html\n",
      "  from .autonotebook import tqdm as notebook_tqdm\n"
     ]
    }
   ],
   "source": [
    "from serialization.serialization import correction, combine, load_corrector_model\n",
    "import google.generativeai as genai\n",
    "from dotenv import load_dotenv\n",
    "\n",
    "results_from_ocr = [\n",
    "    [\n",
    "        \"Essta es una prueva de ectraccion de teexto. Connoscida cosa sea a todos los queesta carta uieren como yo don fffffff por la gracia de dios hey de Castiella.\",\n",
    "        \"Asta carta fue escrita en el anno del senyor de 1493, y  cosas de gran ymportancia para los reynos.\"\n",
    "    ],\n",
    "    [\n",
    "        \"Essa s una prsueva de etraccion de . Connoda cosa sea a tdos as los qeesta carta ueren como yo don Fferrando por la gracia de d hey de Castiella.\",\n",
    "        \"Asta s fue escrita en el ano de seyor de 143, y consigna cossdas de gran ymportana para los reynos.\"\n",
    "    ],\n",
    "]\n",
    "\n",
    "# Cargar claves de entorno para Gemini\n",
    "load_dotenv()\n",
    "GENAI_API_KEY = os.getenv(\"GENAI_API_KEY\")\n",
    "genai.configure(api_key=GENAI_API_KEY)\n",
    "\n",
    "spacy_model = \"es_core_news_sm\"\n",
    "frequency_dictionary_path = \"serialization/spanish_frequency_dictionary.txt\"\n",
    "\n",
    "# Cargar modelo SymSpell y Spacy\n",
    "nlp, sym_spell = load_corrector_model(\n",
    "    spacy_model=spacy_model,\n",
    "    frequency_dictionary_path=frequency_dictionary_path,\n",
    "    max_edit_distance=3,\n",
    "    prefix_length=7\n",
    ")\n",
    "\n",
    "gemini_model_name=\"gemini-2.0-flash-exp\"\n",
    "\n",
    "# Crear el sistema de instrucciones para Gemini\n",
    "chat = genai.GenerativeModel(\n",
    "    model_name=gemini_model_name,\n",
    "    system_instruction=[\n",
    "        \"\"\"\n",
    "        Eres un asistente que ayuda a refinar textos. Analiza el siguiente texto original y corregido,\n",
    "        y reescríbelo en un formato limpio, coherente y gramaticalmente correcto. Los textos son documentos históricos\n",
    "        extraídos mediante OCR, por lo que pueden contener errores típicos del procesamiento OCR. Los documentos son\n",
    "        cartas en Cuba de los siglos XV y XVI, manten el español antiguo.\n",
    "        \"\"\"\n",
    "    ]\n",
    ").start_chat(history=[])\n"
   ]
  },
  {
   "cell_type": "code",
   "execution_count": 2,
   "metadata": {},
   "outputs": [
    {
     "name": "stdout",
     "output_type": "stream",
     "text": [
      "[['Esta es una prueba de extracción de texto. Conocida cosa sea a todos los que esta carta vieren, como yo, don [nombre ilegible], por la gracia de Dios, [rey/señor] de Castilla.', 'Esta carta fue escrita en el año del Señor de 1493, y trata de cosas de gran importancia para los reinos.'], ['Esta es una prueba de extracción. Conocida cosa sea a todos los que esta carta vieren, como yo, don Ferrando, por la gracia de Dios, [rey/señor] de Castilla.', 'Esta fue escrita en el año del Señor de 1493, y consigna cosas de gran importancia para los reinos.']]\n"
     ]
    }
   ],
   "source": [
    "results_from_corrections: List[List[str]] = []\n",
    "\n",
    "for document in results_from_ocr:\n",
    "    aux: List[str] = []\n",
    "    for line in document:\n",
    "        aux.append(correction(line, nlp, sym_spell, chat))\n",
    "    results_from_corrections.append(aux)\n",
    "    \n",
    "print(results_from_corrections)"
   ]
  },
  {
   "cell_type": "markdown",
   "metadata": {},
   "source": [
    "## Decisión Final"
   ]
  },
  {
   "cell_type": "code",
   "execution_count": 3,
   "metadata": {},
   "outputs": [
    {
     "name": "stdout",
     "output_type": "stream",
     "text": [
      "RESULT FINAL\n",
      "['Conocida cosa sea a todos los que esta carta vieren, como yo, don Ferrando, por la gracia de Dios, [rey/señor] de Castilla.', 'Esta fue escrita en el año del Señor de 1493, y consigna cosas de gran importancia para los reinos.']\n"
     ]
    }
   ],
   "source": [
    "result:List[str] = []\n",
    "\n",
    "# Crear el modelo generativo y configurar el sistema de instrucciones\n",
    "chat2 = genai.GenerativeModel(\n",
    "    model_name=gemini_model_name,\n",
    "    system_instruction=\"\"\"\n",
    "    Eres un asistente que ayuda a refinar textos. Analiza las siguientes representaciones de una línea de texto,\n",
    "    y reescribe solo una en un formato limpio, coherente y gramaticalmente correcto. Los textos son documentos históricos\n",
    "    extraídos mediante OCR, por lo que pueden contener errores típicos del procesamiento OCR. Los documentos son\n",
    "    cartas en Cuba de los siglos XV y XVI, manten el español antiguo en tu respuesta.\n",
    "    \"\"\"\n",
    ").start_chat(history=[])\n",
    "\n",
    "for it in range(len(results_from_ocr[0])):\n",
    "    aux: List[str] = []\n",
    "    for i in range(len(results_from_ocr)):\n",
    "        aux.append(results_from_corrections[i][it])\n",
    "    \n",
    "    result.append(combine(aux, chat2))\n",
    "\n",
    "print(\"RESULT FINAL\")\n",
    "print(result)"
   ]
  }
 ],
 "metadata": {
  "kernelspec": {
   "display_name": "posprocesamiento",
   "language": "python",
   "name": "python3"
  },
  "language_info": {
   "codemirror_mode": {
    "name": "ipython",
    "version": 3
   },
   "file_extension": ".py",
   "mimetype": "text/x-python",
   "name": "python",
   "nbconvert_exporter": "python",
   "pygments_lexer": "ipython3",
   "version": "3.9.21"
  }
 },
 "nbformat": 4,
 "nbformat_minor": 2
}
