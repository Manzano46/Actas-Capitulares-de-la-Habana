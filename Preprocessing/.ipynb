{
 "cells": [
  {
   "cell_type": "code",
   "execution_count": null,
   "metadata": {},
   "outputs": [],
   "source": [
    "!pip install numpy\n",
    "!pip install opencv-python"
   ]
  },
  {
   "cell_type": "code",
   "execution_count": 1,
   "metadata": {},
   "outputs": [],
   "source": [
    "import os\n",
    "import cv2\n",
    "import argparse\n",
    "import numpy as np"
   ]
  },
  {
   "cell_type": "code",
   "execution_count": null,
   "metadata": {},
   "outputs": [],
   "source": [
    "image = cv2.imread(\"prueba/binarized.png\")\n",
    "gray_image = cv2.cvtColor(image, cv2.COLOR_BGR2GRAY)\n",
    "filtered_image = cv2.medianBlur(gray_image, 3) \n",
    "cv2.imwrite(\"bin_median.png\", filtered_image)\n",
    "canny = cv2.Canny(filtered_image, 75, 150)\n",
    "cv2.imwrite(\"bin_median_cann.png\", canny)"
   ]
  },
  {
   "cell_type": "code",
   "execution_count": null,
   "metadata": {},
   "outputs": [],
   "source": [
    "kernel = cv2.getStructuringElement(cv2.MORPH_ELLIPSE, (7, 7))\n",
    "# kernel = np.ones((3,3))\n",
    "dilated = cv2.dilate(canny, kernel, iterations=3)\n",
    "eroded = cv2.erode(dilated, kernel, iterations=2)\n",
    "cv2.imwrite(\"bin_median_cann_morph.png\", eroded)"
   ]
  },
  {
   "cell_type": "code",
   "execution_count": null,
   "metadata": {},
   "outputs": [],
   "source": [
    "!kraken -i bin_median_cann_morph.png output_image.png binarize"
   ]
  },
  {
   "cell_type": "code",
   "execution_count": null,
   "metadata": {},
   "outputs": [],
   "source": [
    "import kraken.binarization\n",
    "import kraken.lib\n",
    "from PIL import Image\n",
    "\n",
    "# Carga la imagen\n",
    "image = Image.open('bin_median_cann_morph.png')\n",
    "\n",
    "# Aplica binarización\n",
    "binary_image = kraken.binarization.nlbin(image)\n",
    "\n",
    "# Guarda la imagen binarizada\n",
    "binary_image.save('output_image.png')"
   ]
  },
  {
   "cell_type": "code",
   "execution_count": null,
   "metadata": {},
   "outputs": [],
   "source": [
    "image = cv2.imread(\"prueba/input.jpg\")\n",
    "gray_image = cv2.cvtColor(image, cv2.COLOR_BGR2GRAY)\n",
    "cv2.imwrite(\"gray_image.png\", gray_image)"
   ]
  },
  {
   "cell_type": "code",
   "execution_count": 2,
   "metadata": {},
   "outputs": [],
   "source": [
    "def custom_grayscale(image_path, red_weight=0.1, green_weight=0.1, blue_weight=0.8):\n",
    "    \"\"\"\n",
    "    Convierte una imagen a escala de grises usando pesos personalizados para los canales RGB.\n",
    "\n",
    "    Args:\n",
    "        image_path (str): Ruta de la imagen original.\n",
    "        red_weight (float): Peso para el canal rojo.\n",
    "        green_weight (float): Peso para el canal verde.\n",
    "        blue_weight (float): Peso para el canal azul.\n",
    "\n",
    "    Returns:\n",
    "        numpy.ndarray: Imagen en escala de grises personalizada.\n",
    "    \"\"\"\n",
    "    # Cargar la imagen en formato RGB\n",
    "    image = cv2.imread(image_path)\n",
    "    if image is None:\n",
    "        print(\"Error al cargar la imagen.\")\n",
    "        return None\n",
    "\n",
    "    # Convertir BGR a RGB\n",
    "    image = cv2.cvtColor(image, cv2.COLOR_BGR2RGB)\n",
    "\n",
    "    # Separar los canales de color\n",
    "    blue, green, red = cv2.split(image)\n",
    "\n",
    "    # Aplicar la fórmula personalizada\n",
    "    grayscale_custom = (blue_weight * blue +\n",
    "                        green_weight * green +\n",
    "                        red_weight * red).astype(np.uint8)\n",
    "\n",
    "    return grayscale_custom"
   ]
  },
  {
   "cell_type": "code",
   "execution_count": 1,
   "metadata": {},
   "outputs": [
    {
     "ename": "NameError",
     "evalue": "name 'custom_grayscale' is not defined",
     "output_type": "error",
     "traceback": [
      "\u001b[0;31m---------------------------------------------------------------------------\u001b[0m",
      "\u001b[0;31mNameError\u001b[0m                                 Traceback (most recent call last)",
      "Cell \u001b[0;32mIn[1], line 1\u001b[0m\n\u001b[0;32m----> 1\u001b[0m gray_image \u001b[38;5;241m=\u001b[39m \u001b[43mcustom_grayscale\u001b[49m(\u001b[38;5;124m\"\u001b[39m\u001b[38;5;124mprueba/Image-137.jpg\u001b[39m\u001b[38;5;124m\"\u001b[39m)\n\u001b[1;32m      2\u001b[0m cv2\u001b[38;5;241m.\u001b[39mimwrite(\u001b[38;5;124m\"\u001b[39m\u001b[38;5;124mgray_image2.png\u001b[39m\u001b[38;5;124m\"\u001b[39m, gray_image)\n",
      "\u001b[0;31mNameError\u001b[0m: name 'custom_grayscale' is not defined"
     ]
    }
   ],
   "source": [
    "gray_image = custom_grayscale(\"prueba/Image-137.jpg\")\n",
    "cv2.imwrite(\"gray_image2.png\", gray_image)\n"
   ]
  },
  {
   "cell_type": "code",
   "execution_count": null,
   "metadata": {},
   "outputs": [],
   "source": [
    "# resized_image = cv2.resize(gray_image, (600, 900))\n",
    "# cv2.imwrite(\"resized_image.png\", resized_image)"
   ]
  },
  {
   "cell_type": "code",
   "execution_count": 4,
   "metadata": {},
   "outputs": [
    {
     "data": {
      "text/plain": [
       "True"
      ]
     },
     "execution_count": 4,
     "metadata": {},
     "output_type": "execute_result"
    }
   ],
   "source": [
    "\n",
    "equalized_image = cv2.equalizeHist(gray_image)\n",
    "cv2.imwrite(\"denoised_image_eq2.png\", equalized_image)\n",
    "\n",
    "denoised_image = cv2.GaussianBlur(equalized_image, (11, 11), 0)\n",
    "cv2.imwrite(\"denoised_image2.png\", denoised_image)\n",
    "\n",
    "# smoothed = cv2.bilateralFilter(denoised_image, d=9, sigmaColor=75, sigmaSpace=75)\n",
    "# cv2.imwrite(\"bil_denoised_image_eq2.png\", smoothed)"
   ]
  },
  {
   "cell_type": "code",
   "execution_count": 28,
   "metadata": {},
   "outputs": [
    {
     "data": {
      "text/plain": [
       "True"
      ]
     },
     "execution_count": 28,
     "metadata": {},
     "output_type": "execute_result"
    }
   ],
   "source": [
    "# kernel = np.ones((5, 5), np.uint8)\n",
    "# cleaned = cv2.morphologyEx(smoothed, cv2.MORPH_CLOSE, kernel)\n",
    "kernel = cv2.getStructuringElement(cv2.MORPH_ELLIPSE, (5, 5))\n",
    "# kernel = np.ones((3,3))\n",
    "eroded = cv2.erode(denoised_image, kernel, iterations=3)\n",
    "cv2.imwrite(\"eroded.png\", eroded)\n",
    "dilated = cv2.dilate(eroded, kernel, iterations=2)\n",
    "cv2.imwrite(\"morph.png\", dilated)"
   ]
  },
  {
   "cell_type": "code",
   "execution_count": 30,
   "metadata": {},
   "outputs": [],
   "source": [
    "import kraken.binarization\n",
    "import kraken.lib\n",
    "from PIL import Image\n",
    "\n",
    "# Carga la imagen\n",
    "image = Image.open('eroded.png')\n",
    "\n",
    "# Aplica binarización\n",
    "binary_image = kraken.binarization.nlbin(image,0.45,0.3)\n",
    "\n",
    "# Guarda la imagen binarizada\n",
    "binary_image.save('eroded.png')"
   ]
  },
  {
   "cell_type": "code",
   "execution_count": 7,
   "metadata": {},
   "outputs": [
    {
     "data": {
      "text/plain": [
       "True"
      ]
     },
     "execution_count": 7,
     "metadata": {},
     "output_type": "execute_result"
    }
   ],
   "source": [
    "\n",
    "\n",
    "# Aplicar filtro Gaussiano para suavizar la imagen (ajusta el kernel según sea necesario)\n",
    "# blurred = cv2.GaussianBlur(image, (7, 7), 0)\n",
    "\n",
    "# Crear un mapa de vecindarios oscuros\n",
    "# Un píxel será \"oscuro\" si su valor está por debajo de un umbral\n",
    "dark_pixel_map = (smoothed < 100).astype(np.uint8)  # Ajusta el umbral según tu caso\n",
    "\n",
    "# Contar píxeles oscuros en la vecindad usando una convolución\n",
    "kernel = np.zeros((15, 15), np.uint8)  # Tamaño del vecindario\n",
    "dark_neighbors = cv2.filter2D(dark_pixel_map, -1, kernel)\n",
    "cv2.imwrite(\"dark_neighbors.png\", smoothed)\n"
   ]
  },
  {
   "cell_type": "code",
   "execution_count": null,
   "metadata": {},
   "outputs": [],
   "source": [
    "filtered_image = cv2.medianBlur(denoised_image, 5) \n",
    "cv2.imwrite(\"denoised_image_median2.png\", denoised_image)"
   ]
  },
  {
   "cell_type": "code",
   "execution_count": 5,
   "metadata": {},
   "outputs": [
    {
     "name": "stderr",
     "output_type": "stream",
     "text": [
      "\n",
      "A module that was compiled using NumPy 1.x cannot be run in\n",
      "NumPy 2.0.2 as it may crash. To support both 1.x and 2.x\n",
      "versions of NumPy, modules must be compiled with NumPy 2.0.\n",
      "Some module may need to rebuild instead e.g. with 'pybind11>=2.12'.\n",
      "\n",
      "If you are a user of the module, the easiest solution will be to\n",
      "downgrade to 'numpy<2' or try to upgrade the affected module.\n",
      "We expect that some modules will need time to support NumPy 2.\n",
      "\n",
      "Traceback (most recent call last):  File \"/Library/Frameworks/Python.framework/Versions/3.10/lib/python3.10/runpy.py\", line 196, in _run_module_as_main\n",
      "    return _run_code(code, main_globals, None,\n",
      "  File \"/Library/Frameworks/Python.framework/Versions/3.10/lib/python3.10/runpy.py\", line 86, in _run_code\n",
      "    exec(code, run_globals)\n",
      "  File \"/Users/jack/Library/Python/3.10/lib/python/site-packages/ipykernel_launcher.py\", line 17, in <module>\n",
      "    app.launch_new_instance()\n",
      "  File \"/Users/jack/Library/Python/3.10/lib/python/site-packages/traitlets/config/application.py\", line 1043, in launch_instance\n",
      "    app.start()\n",
      "  File \"/Users/jack/Library/Python/3.10/lib/python/site-packages/ipykernel/kernelapp.py\", line 736, in start\n",
      "    self.io_loop.start()\n",
      "  File \"/Users/jack/Library/Python/3.10/lib/python/site-packages/tornado/platform/asyncio.py\", line 195, in start\n",
      "    self.asyncio_loop.run_forever()\n",
      "  File \"/Library/Frameworks/Python.framework/Versions/3.10/lib/python3.10/asyncio/base_events.py\", line 603, in run_forever\n",
      "    self._run_once()\n",
      "  File \"/Library/Frameworks/Python.framework/Versions/3.10/lib/python3.10/asyncio/base_events.py\", line 1909, in _run_once\n",
      "    handle._run()\n",
      "  File \"/Library/Frameworks/Python.framework/Versions/3.10/lib/python3.10/asyncio/events.py\", line 80, in _run\n",
      "    self._context.run(self._callback, *self._args)\n",
      "  File \"/Users/jack/Library/Python/3.10/lib/python/site-packages/ipykernel/kernelbase.py\", line 516, in dispatch_queue\n",
      "    await self.process_one()\n",
      "  File \"/Users/jack/Library/Python/3.10/lib/python/site-packages/ipykernel/kernelbase.py\", line 505, in process_one\n",
      "    await dispatch(*args)\n",
      "  File \"/Users/jack/Library/Python/3.10/lib/python/site-packages/ipykernel/kernelbase.py\", line 412, in dispatch_shell\n",
      "    await result\n",
      "  File \"/Users/jack/Library/Python/3.10/lib/python/site-packages/ipykernel/kernelbase.py\", line 740, in execute_request\n",
      "    reply_content = await reply_content\n",
      "  File \"/Users/jack/Library/Python/3.10/lib/python/site-packages/ipykernel/ipkernel.py\", line 422, in do_execute\n",
      "    res = shell.run_cell(\n",
      "  File \"/Users/jack/Library/Python/3.10/lib/python/site-packages/ipykernel/zmqshell.py\", line 546, in run_cell\n",
      "    return super().run_cell(*args, **kwargs)\n",
      "  File \"/Users/jack/Library/Python/3.10/lib/python/site-packages/IPython/core/interactiveshell.py\", line 3024, in run_cell\n",
      "    result = self._run_cell(\n",
      "  File \"/Users/jack/Library/Python/3.10/lib/python/site-packages/IPython/core/interactiveshell.py\", line 3079, in _run_cell\n",
      "    result = runner(coro)\n",
      "  File \"/Users/jack/Library/Python/3.10/lib/python/site-packages/IPython/core/async_helpers.py\", line 129, in _pseudo_sync_runner\n",
      "    coro.send(None)\n",
      "  File \"/Users/jack/Library/Python/3.10/lib/python/site-packages/IPython/core/interactiveshell.py\", line 3284, in run_cell_async\n",
      "    has_raised = await self.run_ast_nodes(code_ast.body, cell_name,\n",
      "  File \"/Users/jack/Library/Python/3.10/lib/python/site-packages/IPython/core/interactiveshell.py\", line 3466, in run_ast_nodes\n",
      "    if await self.run_code(code, result, async_=asy):\n",
      "  File \"/Users/jack/Library/Python/3.10/lib/python/site-packages/IPython/core/interactiveshell.py\", line 3526, in run_code\n",
      "    exec(code_obj, self.user_global_ns, self.user_ns)\n",
      "  File \"/var/folders/z_/jz4f3stj0xq5g99z3sb19w3r0000gn/T/ipykernel_50356/2134230996.py\", line 1, in <module>\n",
      "    import kraken.binarization\n",
      "  File \"/Library/Frameworks/Python.framework/Versions/3.10/lib/python3.10/site-packages/kraken/binarization.py\", line 32, in <module>\n",
      "    from kraken.lib.util import array2pil, get_im_str, is_bitonal, pil2array\n",
      "  File \"/Library/Frameworks/Python.framework/Versions/3.10/lib/python3.10/site-packages/kraken/lib/util.py\", line 13, in <module>\n",
      "    from kraken.containers import BBoxLine\n",
      "  File \"/Library/Frameworks/Python.framework/Versions/3.10/lib/python3.10/site-packages/kraken/containers.py\", line 30, in <module>\n",
      "    from kraken.lib.segmentation import compute_polygon_section\n",
      "  File \"/Library/Frameworks/Python.framework/Versions/3.10/lib/python3.10/site-packages/kraken/lib/segmentation.py\", line 40, in <module>\n",
      "    from skimage.morphology import skeletonize\n",
      "  File \"/Library/Frameworks/Python.framework/Versions/3.10/lib/python3.10/site-packages/skimage/morphology/__init__.py\", line 9, in <module>\n",
      "    from .binary import binary_closing, binary_dilation, binary_erosion, binary_opening\n",
      "  File \"/Library/Frameworks/Python.framework/Versions/3.10/lib/python3.10/site-packages/skimage/morphology/binary.py\", line 9, in <module>\n",
      "    from .misc import default_footprint\n",
      "  File \"/Library/Frameworks/Python.framework/Versions/3.10/lib/python3.10/site-packages/skimage/morphology/misc.py\", line 9, in <module>\n",
      "    from .._shared._dependency_checks import is_wasm\n",
      "  File \"/Library/Frameworks/Python.framework/Versions/3.10/lib/python3.10/site-packages/skimage/_shared/_dependency_checks.py\", line 5, in <module>\n",
      "    has_mpl = is_installed(\"matplotlib\", \">=3.3\")\n",
      "  File \"/Library/Frameworks/Python.framework/Versions/3.10/lib/python3.10/site-packages/skimage/_shared/version_requirements.py\", line 58, in is_installed\n",
      "    actver = get_module_version(name)\n",
      "  File \"/Library/Frameworks/Python.framework/Versions/3.10/lib/python3.10/site-packages/skimage/_shared/version_requirements.py\", line 32, in get_module_version\n",
      "    mod = __import__(module_name, fromlist=[module_name.rpartition('.')[-1]])\n",
      "  File \"/Library/Frameworks/Python.framework/Versions/3.10/lib/python3.10/site-packages/matplotlib/__init__.py\", line 161, in <module>\n",
      "    from . import _api, _version, cbook, _docstring, rcsetup\n",
      "  File \"/Library/Frameworks/Python.framework/Versions/3.10/lib/python3.10/site-packages/matplotlib/rcsetup.py\", line 27, in <module>\n",
      "    from matplotlib.colors import Colormap, is_color_like\n",
      "  File \"/Library/Frameworks/Python.framework/Versions/3.10/lib/python3.10/site-packages/matplotlib/colors.py\", line 57, in <module>\n",
      "    from matplotlib import _api, _cm, cbook, scale\n",
      "  File \"/Library/Frameworks/Python.framework/Versions/3.10/lib/python3.10/site-packages/matplotlib/scale.py\", line 22, in <module>\n",
      "    from matplotlib.ticker import (\n",
      "  File \"/Library/Frameworks/Python.framework/Versions/3.10/lib/python3.10/site-packages/matplotlib/ticker.py\", line 143, in <module>\n",
      "    from matplotlib import transforms as mtransforms\n",
      "  File \"/Library/Frameworks/Python.framework/Versions/3.10/lib/python3.10/site-packages/matplotlib/transforms.py\", line 49, in <module>\n",
      "    from matplotlib._path import (\n"
     ]
    },
    {
     "ename": "ImportError",
     "evalue": "\nA module that was compiled using NumPy 1.x cannot be run in\nNumPy 2.0.2 as it may crash. To support both 1.x and 2.x\nversions of NumPy, modules must be compiled with NumPy 2.0.\nSome module may need to rebuild instead e.g. with 'pybind11>=2.12'.\n\nIf you are a user of the module, the easiest solution will be to\ndowngrade to 'numpy<2' or try to upgrade the affected module.\nWe expect that some modules will need time to support NumPy 2.\n\n",
     "output_type": "error",
     "traceback": [
      "\u001b[0;31m---------------------------------------------------------------------------\u001b[0m",
      "\u001b[0;31mImportError\u001b[0m                               Traceback (most recent call last)",
      "File \u001b[0;32m/Library/Frameworks/Python.framework/Versions/3.10/lib/python3.10/site-packages/numpy/core/_multiarray_umath.py:44\u001b[0m, in \u001b[0;36m__getattr__\u001b[0;34m(attr_name)\u001b[0m\n\u001b[1;32m     39\u001b[0m     \u001b[38;5;66;03m# Also print the message (with traceback).  This is because old versions\u001b[39;00m\n\u001b[1;32m     40\u001b[0m     \u001b[38;5;66;03m# of NumPy unfortunately set up the import to replace (and hide) the\u001b[39;00m\n\u001b[1;32m     41\u001b[0m     \u001b[38;5;66;03m# error.  The traceback shouldn't be needed, but e.g. pytest plugins\u001b[39;00m\n\u001b[1;32m     42\u001b[0m     \u001b[38;5;66;03m# seem to swallow it and we should be failing anyway...\u001b[39;00m\n\u001b[1;32m     43\u001b[0m     sys\u001b[38;5;241m.\u001b[39mstderr\u001b[38;5;241m.\u001b[39mwrite(msg \u001b[38;5;241m+\u001b[39m tb_msg)\n\u001b[0;32m---> 44\u001b[0m     \u001b[38;5;28;01mraise\u001b[39;00m \u001b[38;5;167;01mImportError\u001b[39;00m(msg)\n\u001b[1;32m     46\u001b[0m ret \u001b[38;5;241m=\u001b[39m \u001b[38;5;28mgetattr\u001b[39m(_multiarray_umath, attr_name, \u001b[38;5;28;01mNone\u001b[39;00m)\n\u001b[1;32m     47\u001b[0m \u001b[38;5;28;01mif\u001b[39;00m ret \u001b[38;5;129;01mis\u001b[39;00m \u001b[38;5;28;01mNone\u001b[39;00m:\n",
      "\u001b[0;31mImportError\u001b[0m: \nA module that was compiled using NumPy 1.x cannot be run in\nNumPy 2.0.2 as it may crash. To support both 1.x and 2.x\nversions of NumPy, modules must be compiled with NumPy 2.0.\nSome module may need to rebuild instead e.g. with 'pybind11>=2.12'.\n\nIf you are a user of the module, the easiest solution will be to\ndowngrade to 'numpy<2' or try to upgrade the affected module.\nWe expect that some modules will need time to support NumPy 2.\n\n"
     ]
    }
   ],
   "source": [
    "import kraken.binarization\n",
    "import kraken.lib\n",
    "from PIL import Image\n",
    "\n",
    "# Carga la imagen\n",
    "image = Image.open('bil_denoised_image_eq2.png')\n",
    "\n",
    "# Aplica binarización\n",
    "binary_image = kraken.binarization.nlbin(image, 0.4)\n",
    "\n",
    "# Guarda la imagen binarizada\n",
    "binary_image.save('output_image.png')"
   ]
  },
  {
   "cell_type": "code",
   "execution_count": null,
   "metadata": {},
   "outputs": [],
   "source": [
    "\n",
    "equalized_image2 = cv2.equalizeHist(smoothed)\n",
    "cv2.imwrite(\"eqeq.png\", equalized_image2)"
   ]
  },
  {
   "cell_type": "code",
   "execution_count": null,
   "metadata": {},
   "outputs": [],
   "source": [
    "filtered_image = cv2.medianBlur(equalized_image, 11) \n",
    "cv2.imwrite(\"denoised_image_median2.png\", equalized_image)"
   ]
  },
  {
   "cell_type": "code",
   "execution_count": null,
   "metadata": {},
   "outputs": [],
   "source": [
    "equalized_image = cv2.equalizeHist(filtered_image)\n",
    "cv2.imwrite(\"denoised_image_eq.png\", equalized_image)"
   ]
  },
  {
   "cell_type": "code",
   "execution_count": null,
   "metadata": {},
   "outputs": [],
   "source": [
    "edges = cv2.Canny(smoothed, 75, 150)\n",
    "cv2.imwrite(\"canny_image_aftergauss_eq3.png\", edges)"
   ]
  },
  {
   "cell_type": "code",
   "execution_count": null,
   "metadata": {},
   "outputs": [],
   "source": [
    "# kernel = np.ones((5, 5), np.uint8)  # Kernel de 3x3\n",
    "# kernel = cv2.circle(kernel, (2,2), 2, 1)\n",
    "kernel = cv2.getStructuringElement(cv2.MORPH_ELLIPSE, (3, 3))\n",
    "dilated = cv2.dilate(edges, kernel, iterations=2)\n",
    "cv2.imwrite(\"dilated_canny_image_aftergauss_eq.png\", dilated)"
   ]
  },
  {
   "cell_type": "code",
   "execution_count": null,
   "metadata": {},
   "outputs": [],
   "source": [
    "kernel"
   ]
  },
  {
   "cell_type": "code",
   "execution_count": null,
   "metadata": {},
   "outputs": [],
   "source": [
    "eroded = cv2.erode(edges, kernel, iterations=1)\n",
    "cv2.imwrite(\"eroded_canny_image_aftergauss_eq.png\", eroded)"
   ]
  },
  {
   "cell_type": "code",
   "execution_count": null,
   "metadata": {},
   "outputs": [],
   "source": [
    "closed = cv2.morphologyEx(edges, cv2.MORPH_CLOSE, kernel)"
   ]
  },
  {
   "cell_type": "code",
   "execution_count": null,
   "metadata": {},
   "outputs": [],
   "source": [
    "equalized_image = cv2.equalizeHist(gray_image)\n",
    "filtered_image = cv2.medianBlur(equalized_image, 3)\n",
    "cv2.imwrite(\"equalized_image_median.png\", filtered_image)"
   ]
  },
  {
   "cell_type": "code",
   "execution_count": null,
   "metadata": {},
   "outputs": [],
   "source": [
    "edges = cv2.Canny(filtered_image, 50, 150)\n",
    "cv2.imwrite(\"canny_image.png\", edges)"
   ]
  },
  {
   "cell_type": "code",
   "execution_count": null,
   "metadata": {},
   "outputs": [],
   "source": [
    "_, binary_image = cv2.threshold(filtered_image, 100, 255, cv2.THRESH_BINARY)\n",
    "cv2.imwrite(\"binary_image.png\", binary_image)"
   ]
  },
  {
   "cell_type": "code",
   "execution_count": null,
   "metadata": {},
   "outputs": [],
   "source": [
    "edges = cv2.Canny(image, 50, 150)\n",
    "cv2.imwrite(\"canny_image.png\", edges)"
   ]
  },
  {
   "cell_type": "code",
   "execution_count": null,
   "metadata": {},
   "outputs": [],
   "source": [
    "_, otsu_binary = cv2.threshold(filtered_image, 0, 255, cv2.THRESH_BINARY + cv2.THRESH_OTSU)\n",
    "cv2.imwrite(\"otsu_image.png\", binary_image)"
   ]
  },
  {
   "cell_type": "code",
   "execution_count": null,
   "metadata": {},
   "outputs": [],
   "source": [
    "binarized_image = cv2.adaptiveThreshold(\n",
    "    filtered_image, 255, cv2.ADAPTIVE_THRESH_MEAN_C, cv2.THRESH_BINARY, 5, 2\n",
    ")\n",
    "cv2.imwrite(\"binarized_image.png\", binarized_image)"
   ]
  },
  {
   "cell_type": "code",
   "execution_count": null,
   "metadata": {},
   "outputs": [],
   "source": [
    "filtered_image_after_bin = cv2.medianBlur(binarized_image, 3) \n",
    "cv2.imwrite(\"denoised_image_median_afterbin.png\", filtered_image_after_bin)"
   ]
  },
  {
   "cell_type": "code",
   "execution_count": null,
   "metadata": {},
   "outputs": [],
   "source": [
    "import numpy as np\n",
    "#no funciona bien\n",
    "coords = np.column_stack(np.where(binarized_image > 0))\n",
    "angle = cv2.minAreaRect(coords)[-1]\n",
    "if angle < -45:\n",
    "    angle = -(90 + angle)\n",
    "else:\n",
    "    angle = -angle\n",
    "\n",
    "(h, w) = binarized_image.shape[:2]\n",
    "center = (w // 2, h // 2)\n",
    "M = cv2.getRotationMatrix2D(center, angle, 1.0)\n",
    "rotated = cv2.warpAffine(binarized_image, M, (w, h), flags=cv2.INTER_CUBIC, borderMode=cv2.BORDER_REPLICATE)\n",
    "cv2.imwrite(\"deskewed_image.png\", rotated)"
   ]
  },
  {
   "cell_type": "code",
   "execution_count": null,
   "metadata": {},
   "outputs": [],
   "source": [
    "background_removed = cv2.fastNlMeansDenoising(binarized_image, None, 10, 7, 21)\n",
    "cv2.imwrite(\"background_removed.png\", background_removed)"
   ]
  },
  {
   "cell_type": "code",
   "execution_count": null,
   "metadata": {},
   "outputs": [],
   "source": [
    "contours, _ = cv2.findContours(\n",
    "    binarized_image, cv2.RETR_EXTERNAL, cv2.CHAIN_APPROX_SIMPLE\n",
    ")\n",
    "for contour in contours:\n",
    "    x, y, w, h = cv2.boundingRect(contour)\n",
    "    segment = binarized_image[y : y + h, x : x + w]\n",
    "    cv2.imwrite(f\"segment_{x}_{y}.png\", segment)"
   ]
  }
 ],
 "metadata": {
  "kernelspec": {
   "display_name": "Python 3",
   "language": "python",
   "name": "python3"
  },
  "language_info": {
   "codemirror_mode": {
    "name": "ipython",
    "version": 3
   },
   "file_extension": ".py",
   "mimetype": "text/x-python",
   "name": "python",
   "nbconvert_exporter": "python",
   "pygments_lexer": "ipython3",
   "version": "3.10.10"
  }
 },
 "nbformat": 4,
 "nbformat_minor": 2
}
